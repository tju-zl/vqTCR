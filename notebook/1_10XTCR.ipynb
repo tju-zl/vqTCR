{
 "cells": [
  {
   "cell_type": "markdown",
   "metadata": {},
   "source": [
    "Tutorial of 10X genomics data\n",
    "===\n",
    "\n",
    "VQTCR is a conditional vector quantization VAE framework for quantizing the functions of T cell receptors (TCR). \n",
    "- samples of 4 donors with paired scTCR-seq and scRNA-seq\n",
    "- TCR CDR3 with alpha chain and beta chain\n",
    "- data preprocessed following mvTCR pipeline, and the preprocessed adata can be downloaded from zonado.\n"
   ]
  },
  {
   "cell_type": "code",
   "execution_count": null,
   "metadata": {},
   "outputs": [],
   "source": [
    "import os,sys\n",
    "sys.path.append(os.path.realpath(os.path.join(os.getcwd(), '..')))\n",
    "import comet_ml\n",
    "import scanpy as sc\n",
    "import cvqtcr as ct\n",
    "ct.set_random_seed(2024)"
   ]
  },
  {
   "cell_type": "code",
   "execution_count": null,
   "metadata": {},
   "outputs": [],
   "source": [
    "path_base = '/mnt/d/Dataset/TCR/TCR-Donor1-4/'\n",
    "path_data = path_base + 'v7_avidity.h5ad'"
   ]
  },
  {
   "cell_type": "code",
   "execution_count": null,
   "metadata": {},
   "outputs": [],
   "source": [
    "adata = sc.read(path_data)"
   ]
  },
  {
   "cell_type": "code",
   "execution_count": null,
   "metadata": {},
   "outputs": [],
   "source": [
    "adata, adata.obs['set'].value_counts()"
   ]
  },
  {
   "cell_type": "code",
   "execution_count": null,
   "metadata": {},
   "outputs": [],
   "source": [
    "adata = adata[adata.obs['donor']=='donor2']\n",
    "adata = adata[adata.obs['binding_name']!='no_data']\n",
    "adata = adata[adata.obs['binding_name'].isin(HIGH_COUNT_ANTIGENS)]"
   ]
  },
  {
   "cell_type": "code",
   "execution_count": null,
   "metadata": {},
   "outputs": [],
   "source": []
  },
  {
   "cell_type": "code",
   "execution_count": 13,
   "metadata": {},
   "outputs": [
    {
     "data": {
      "text/plain": [
       "8249985928163622007"
      ]
     },
     "execution_count": 13,
     "metadata": {},
     "output_type": "execute_result"
    }
   ],
   "source": [
    "import torch\n",
    "torch.initial_seed()"
   ]
  },
  {
   "cell_type": "code",
   "execution_count": 6,
   "metadata": {},
   "outputs": [],
   "source": [
    "import numpy as np\n",
    "np.random.seed(torch.initial_seed()%2**32)"
   ]
  }
 ],
 "metadata": {
  "kernelspec": {
   "display_name": "pyg",
   "language": "python",
   "name": "python3"
  },
  "language_info": {
   "codemirror_mode": {
    "name": "ipython",
    "version": 3
   },
   "file_extension": ".py",
   "mimetype": "text/x-python",
   "name": "python",
   "nbconvert_exporter": "python",
   "pygments_lexer": "ipython3",
   "version": "3.8.18"
  }
 },
 "nbformat": 4,
 "nbformat_minor": 2
}
